{
 "cells": [
  {
   "cell_type": "markdown",
   "metadata": {},
   "source": [
    "# Map Generator"
   ]
  },
  {
   "cell_type": "code",
   "execution_count": 1,
   "metadata": {},
   "outputs": [],
   "source": [
    "import random\n",
    "import networkx as nx\n",
    "from decimal import *\n",
    "import numpy as np\n",
    "import matplotlib.pyplot as plt"
   ]
  },
  {
   "cell_type": "code",
   "execution_count": 44,
   "metadata": {},
   "outputs": [],
   "source": [
    "grid_size = 500\n",
    "grid = [[None for i in range(grid_size)] for i in range(grid_size)] #0: no location 1: location but not home 2: home\n",
    "num_home = 97\n",
    "num_loc = 200"
   ]
  },
  {
   "cell_type": "code",
   "execution_count": 45,
   "metadata": {},
   "outputs": [],
   "source": [
    "def gen_random_locs(grid_size, num_loc, num_home):\n",
    "    print(\"generating random locations...\")\n",
    "    arr_locs = random.sample(list(range(grid_size**2)), num_loc) #pick the index for locations\n",
    "    arr_homes = random.sample(arr_locs, num_home) #pick the index for homes\n",
    "    return arr_locs, arr_homes\n",
    "\n",
    "def translate_loc_home_array(arr_locs, arr_homes, grid, grid_size):\n",
    "    print(\"translating random locations to coordinates...\")\n",
    "    locs = {} #{(x,y):(identifier,index)} Identifier = 1 (location); = 2(home)\n",
    "    node_to_coordinate = {}\n",
    "    \n",
    "    for ind,loc in enumerate(arr_locs): #convert to x,y coordinate and give index. \n",
    "        grid[loc % grid_size][loc // grid_size] = 1\n",
    "        locs[(loc % grid_size,loc // grid_size)] = [1,ind]\n",
    "        node_to_coordinate[ind] = (loc % grid_size,loc // grid_size)\n",
    "    for home in arr_homes: #convert to x,y coordinate and give index. \n",
    "        grid[home % grid_size][home // grid_size] = 2\n",
    "        locs[(home % grid_size,home // grid_size)][0] = 2\n",
    "    return locs, node_to_coordinate\n",
    "        \n",
    "def compute_dist(point1, point2, v1, v2, save = False):\n",
    "    if (v1 == 2 and v2 == 2): #home has no direct edges in between\n",
    "        if random.random() >= 0.95:\n",
    "            res = abs((point1[0] - point2[0])) + abs((point1[1] - point2[1]))\n",
    "            return 'x' if res==0 else res #L1 norm\n",
    "        return 'x' if save else 0\n",
    "    if random.random() < 0.95:   \n",
    "        res = abs((point1[0] - point2[0])) + abs((point1[1] - point2[1]))\n",
    "        return 'x' if res==0 else res #L1 norm\n",
    "    return 'x' if save else 0\n",
    "\n",
    "def construct_adj(locs, num_loc, node_to_coordinate, verbose = False, save = False):\n",
    "    print(\"constructing adjacency matrix...\")\n",
    "    edge = [[None for i in range(num_loc)] for i in range(num_loc)]\n",
    "    loc_str = \"\"\n",
    "    home_str = \"\"\n",
    "\n",
    "    for l1,v1 in locs.items():\n",
    "        loc_str += \"Loc{i} \".format(i=v1[1]) #add location regardless of its identifier\n",
    "        if(v1[0] == 2): #if home\n",
    "            home_str += \"Loc{i} \".format(i=v1[1])\n",
    "        for l2,v2 in locs.items():\n",
    "            if edge[v1[1]][v2[1]] == None: #to avoid repetitive calculation\n",
    "                dist = compute_dist(l1, l2, v1[0], v2[0], save)\n",
    "                edge[v1[1]][v2[1]], edge[v2[1]][v1[1]] = dist, dist #evaluate the adj_matrix\n",
    "    #reconstruct for home leaf\n",
    "    home_leaf = leaf(locs, arr_homes, 3) #first three are homes in leaf, the fourth one is the source location\n",
    "    for index in home_leaf[0:3]:\n",
    "        for i in range(num_loc):\n",
    "            edge[index][i] = 'x' if save else 0\n",
    "            edge[i][index] = 'x' if save else 0\n",
    "    h1, h2, h3 = node_to_coordinate[home_leaf[0]], node_to_coordinate[home_leaf[1]], node_to_coordinate[home_leaf[2]]\n",
    "    edge[home_leaf[0]][home_leaf[1]], edge[home_leaf[1]][home_leaf[0]] = abs((h1[0] - h2[0])) + abs((h1[1] - h2[1])), abs((h1[0] - h2[0])) + abs((h1[1] - h2[1])) \n",
    "    edge[home_leaf[1]][home_leaf[2]], edge[home_leaf[2]][home_leaf[1]] = abs((h2[0] - h3[0])) + abs((h2[1] - h3[1])), abs((h2[0] - h3[0])) + abs((h2[1] - h3[1]))\n",
    "    leaf_source = node_to_coordinate[home_leaf[3]]\n",
    "    edge[home_leaf[0]][home_leaf[3]] = abs((h1[0] - leaf_source[0])) + abs((h1[1] - leaf_source[1]))\n",
    "    edge[home_leaf[3]][home_leaf[0]] = abs((h1[0] - leaf_source[0])) + abs((h1[1] - leaf_source[1]))\n",
    "\n",
    "    #now we need to update the home_str since we just added in the home leaf\n",
    "    home_str += \"Loc{i} Loc{j} Loc{k}\".format(i = home_leaf[0], j = home_leaf[1], k = home_leaf[2])\n",
    "    if verbose:\n",
    "        print(\"Location String: \")\n",
    "        print(loc_str)\n",
    "        print(\"Home String: \")\n",
    "        print(home_str)\n",
    "        print(\"Home Leaf: \")\n",
    "        print(home_leaf)\n",
    "    if save:\n",
    "        np.savetxt('100.txt', edge, delimiter = ' ', fmt=\"%s\")\n",
    "    edge = np.array(edge)\n",
    "    return edge\n",
    "\n",
    "#generate home leaf\n",
    "def leaf(locs, arr_homes, num_home_on_leaf):\n",
    "    num_leaf = 0\n",
    "    result = []\n",
    "    while num_leaf < num_home_on_leaf + 1:\n",
    "        temp_item = random.choice(list(locs.items()))\n",
    "        temp = temp_item[1]\n",
    "        temp_coordinate = temp_item[0]\n",
    "        if temp[0] == 1 and temp[1] not in result:\n",
    "            num_leaf += 1\n",
    "            result.append(temp[1])\n",
    "            if num_leaf != num_home_on_leaf + 1: locs[temp_coordinate][0] = 2\n",
    "            #note that arr_home is not updated\n",
    "    return result\n",
    "def draw_nx(G, locs, arr_locs, arr_homes, node_to_coordinate, save = False):\n",
    "    if not save:\n",
    "        colors = [None for i in range(len(arr_locs))]\n",
    "        for i, (l1, v1) in enumerate(locs.items()):\n",
    "            if v1[0] == 2: colors[i] = '#FC766AFF' #Homes are coral colored\n",
    "            else: colors[i] = '#5B84B1FF' #Locations are sea colored\n",
    "        plt.figure(figsize=(16,9))\n",
    "        nx.draw_networkx(G, with_labels=True, font_weight='bold', pos = node_to_coordinate, node_color = colors)\n"
   ]
  },
  {
   "cell_type": "code",
   "execution_count": 46,
   "metadata": {},
   "outputs": [
    {
     "name": "stdout",
     "output_type": "stream",
     "text": [
      "generating random locations...\n",
      "translating random locations to coordinates...\n",
      "constructing adjacency matrix...\n",
      "Location String: \n",
      "Loc0 Loc1 Loc2 Loc3 Loc4 Loc5 Loc6 Loc7 Loc8 Loc9 Loc10 Loc11 Loc12 Loc13 Loc14 Loc15 Loc16 Loc17 Loc18 Loc19 Loc20 Loc21 Loc22 Loc23 Loc24 Loc25 Loc26 Loc27 Loc28 Loc29 Loc30 Loc31 Loc32 Loc33 Loc34 Loc35 Loc36 Loc37 Loc38 Loc39 Loc40 Loc41 Loc42 Loc43 Loc44 Loc45 Loc46 Loc47 Loc48 Loc49 Loc50 Loc51 Loc52 Loc53 Loc54 Loc55 Loc56 Loc57 Loc58 Loc59 Loc60 Loc61 Loc62 Loc63 Loc64 Loc65 Loc66 Loc67 Loc68 Loc69 Loc70 Loc71 Loc72 Loc73 Loc74 Loc75 Loc76 Loc77 Loc78 Loc79 Loc80 Loc81 Loc82 Loc83 Loc84 Loc85 Loc86 Loc87 Loc88 Loc89 Loc90 Loc91 Loc92 Loc93 Loc94 Loc95 Loc96 Loc97 Loc98 Loc99 Loc100 Loc101 Loc102 Loc103 Loc104 Loc105 Loc106 Loc107 Loc108 Loc109 Loc110 Loc111 Loc112 Loc113 Loc114 Loc115 Loc116 Loc117 Loc118 Loc119 Loc120 Loc121 Loc122 Loc123 Loc124 Loc125 Loc126 Loc127 Loc128 Loc129 Loc130 Loc131 Loc132 Loc133 Loc134 Loc135 Loc136 Loc137 Loc138 Loc139 Loc140 Loc141 Loc142 Loc143 Loc144 Loc145 Loc146 Loc147 Loc148 Loc149 Loc150 Loc151 Loc152 Loc153 Loc154 Loc155 Loc156 Loc157 Loc158 Loc159 Loc160 Loc161 Loc162 Loc163 Loc164 Loc165 Loc166 Loc167 Loc168 Loc169 Loc170 Loc171 Loc172 Loc173 Loc174 Loc175 Loc176 Loc177 Loc178 Loc179 Loc180 Loc181 Loc182 Loc183 Loc184 Loc185 Loc186 Loc187 Loc188 Loc189 Loc190 Loc191 Loc192 Loc193 Loc194 Loc195 Loc196 Loc197 Loc198 Loc199 \n",
      "Home String: \n",
      "Loc0 Loc3 Loc5 Loc6 Loc7 Loc8 Loc9 Loc11 Loc13 Loc14 Loc15 Loc16 Loc17 Loc18 Loc19 Loc20 Loc23 Loc25 Loc27 Loc30 Loc31 Loc32 Loc33 Loc37 Loc38 Loc39 Loc44 Loc46 Loc50 Loc51 Loc52 Loc53 Loc54 Loc57 Loc60 Loc61 Loc62 Loc65 Loc67 Loc71 Loc74 Loc75 Loc76 Loc77 Loc83 Loc85 Loc91 Loc94 Loc95 Loc96 Loc97 Loc99 Loc100 Loc101 Loc103 Loc106 Loc107 Loc109 Loc110 Loc111 Loc118 Loc122 Loc124 Loc128 Loc129 Loc132 Loc133 Loc137 Loc140 Loc141 Loc143 Loc144 Loc145 Loc147 Loc149 Loc153 Loc154 Loc159 Loc160 Loc163 Loc167 Loc168 Loc170 Loc171 Loc172 Loc175 Loc176 Loc177 Loc180 Loc182 Loc183 Loc188 Loc189 Loc190 Loc192 Loc195 Loc197 Loc151 Loc59 Loc123\n",
      "Home Leaf: \n",
      "[151, 59, 123, 113]\n"
     ]
    }
   ],
   "source": [
    "arr_locs, arr_homes = gen_random_locs(grid_size, num_loc, num_home)\n",
    "locs, node_to_coordinate = translate_loc_home_array(arr_locs, arr_homes, grid, grid_size)\n",
    "save = True\n",
    "adj_matrix = construct_adj(locs, num_loc, node_to_coordinate, True, save)\n",
    "\n",
    "G = nx.from_numpy_matrix(adj_matrix)\n",
    "draw_nx(G, locs, arr_locs, arr_homes, node_to_coordinate, save)"
   ]
  },
  {
   "cell_type": "code",
   "execution_count": 43,
   "metadata": {},
   "outputs": [],
   "source": [
    "#First get a sense of the scales of your network (you need to know the max length or smth)\n",
    "#What if you find the LCA of some homes, and run metric TSP on these points?\n",
    "#Betweeness centrality of a node or use clustering algorithms (then find a point in each cluster) Facility Loc?\n",
    "#Maximal covering LP\n",
    "#Location set LP\n",
    "#Genetic algorithm"
   ]
  },
  {
   "cell_type": "code",
   "execution_count": null,
   "metadata": {},
   "outputs": [],
   "source": [
    "def convertOutput(homes):\n",
    "    home_arr = homes.split()\n",
    "    result = \"\"\n",
    "    for h in home_arr:\n",
    "        result += h + \" \"\n",
    "        result += h + \" \"\n",
    "        \n",
    "        "
   ]
  }
 ],
 "metadata": {
  "kernelspec": {
   "display_name": "Python 3",
   "language": "python",
   "name": "python3"
  },
  "language_info": {
   "codemirror_mode": {
    "name": "ipython",
    "version": 3
   },
   "file_extension": ".py",
   "mimetype": "text/x-python",
   "name": "python",
   "nbconvert_exporter": "python",
   "pygments_lexer": "ipython3",
   "version": "3.7.3"
  }
 },
 "nbformat": 4,
 "nbformat_minor": 2
}
